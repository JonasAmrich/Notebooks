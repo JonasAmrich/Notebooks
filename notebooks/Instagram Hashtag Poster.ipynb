{
 "cells": [
  {
   "cell_type": "markdown",
   "metadata": {},
   "source": [
    "# Instagram Hashtag Poster\n",
    "\n",
    "This notebook downloads all images from given hashtag and puts them into one large poster.\n",
    "\n",
    "**Important info**: The Instagram API has a sanbox mode, which prevents any app created after Nov 2015 download images from all users prior to app approval. The workaround is to use an old Instagram app id - unfortunately after June 2016 this won't work too. See https://www.instagram.com/developer/sandbox/ for more info."
   ]
  },
  {
   "cell_type": "code",
   "execution_count": null,
   "metadata": {
    "collapsed": false
   },
   "outputs": [],
   "source": [
    "import imagehash\n",
    "import json\n",
    "import math\n",
    "import requests\n",
    "import shutil\n",
    "import numpy as np\n",
    "from io import BytesIO\n",
    "from IPython.display import Javascript\n",
    "from PIL import Image\n",
    "from sklearn.cluster import KMeans\n",
    "\n",
    "CLIENT_ID = '7b75033299b04b478a75b59044238b78'\n",
    "REDIRECT_URI = 'http://localhost:8888/notebooks/notebooks/Instagram%20Hashtag%20Poster.ipynb'  # must be specified in ig client settings\n",
    "IG_ENDPOINT = 'https://api.instagram.com/v1/'\n",
    "IG_WIDTH = 150\n",
    "\n",
    "THE_TAG = 'acupofczech' #'acupoftravel'"
   ]
  },
  {
   "cell_type": "markdown",
   "metadata": {},
   "source": [
    "The two following cells handles OAuth2 authentication:"
   ]
  },
  {
   "cell_type": "code",
   "execution_count": null,
   "metadata": {
    "collapsed": false
   },
   "outputs": [],
   "source": [
    "%%javascript\n",
    "IPython.notebook.kernel.execute(\"NOTEBOOK_URL = '\" + window.location.href + \"'\");"
   ]
  },
  {
   "cell_type": "code",
   "execution_count": null,
   "metadata": {
    "collapsed": false,
    "scrolled": true
   },
   "outputs": [],
   "source": [
    "fragment = '#access_token='\n",
    "\n",
    "if fragment in NOTEBOOK_URL:\n",
    "    ACCESS_TOKEN = NOTEBOOK_URL[NOTEBOOK_URL.index(fragment)+len(fragment):]\n",
    "    print('Got the token! Continue below.')\n",
    "else:\n",
    "    Javascript('location.href = \"http://google.com\"')\n",
    "    print('Click the link and run the cells again.')\n",
    "    print('https://api.instagram.com/oauth/authorize/?client_id={}&redirect_uri={}&response_type=token'.format(CLIENT_ID, requests.compat.quote_plus(REDIRECT_URI)))"
   ]
  },
  {
   "cell_type": "code",
   "execution_count": null,
   "metadata": {
    "collapsed": false
   },
   "outputs": [],
   "source": [
    "# Init\n",
    "\n",
    "r = requests.get(IG_ENDPOINT + 'tags/{}/'.format(THE_TAG), {'access_token': ACCESS_TOKEN})\n",
    "n_images = r.json()['data']['media_count']\n",
    "poster_width = math.floor(math.sqrt(n_images))"
   ]
  },
  {
   "cell_type": "code",
   "execution_count": null,
   "metadata": {
    "collapsed": true
   },
   "outputs": [],
   "source": [
    "# Get the paginated response and merge into one big json\n",
    "data = []\n",
    "\n",
    "i = 0\n",
    "r = requests.get(IG_ENDPOINT + 'tags/{}/media/recent'.format(THE_TAG), {'access_token': ACCESS_TOKEN})\n",
    "while 'next_url' in r.json()['pagination']:\n",
    "    data.extend(r.json()['data'])\n",
    "    i += 1\n",
    "    print(i)\n",
    "    r = requests.get(r.json()['pagination']['next_url'])\n",
    "\n",
    "with open('{}.json'.format(THE_TAG), 'w') as outfile:\n",
    "    json.dump(data, outfile)"
   ]
  },
  {
   "cell_type": "markdown",
   "metadata": {},
   "source": [
    "## Simple poster generation"
   ]
  },
  {
   "cell_type": "code",
   "execution_count": null,
   "metadata": {
    "collapsed": true
   },
   "outputs": [],
   "source": [
    "# Download images and place them on the poster\n",
    "# Beware, the poster may eat a lot of memory,\n",
    "# adujst the width (will use first poster_width * poster_width images)\n",
    "# and resolution (IG_WIDTH)\n",
    "\n",
    "poster_width = 40\n",
    "i = 0\n",
    "\n",
    "poster_img = Image.new('RGB', (IG_WIDTH*poster_width, IG_WIDTH*poster_width))\n",
    "\n",
    "for img_json in data:\n",
    "    img_url = img_json['images']['thumbnail']['url']\n",
    "    img = Image.open(BytesIO(requests.get(img_url).content))\n",
    "    \n",
    "    poster_img.paste(img, (IG_WIDTH*(i%poster_width), IG_WIDTH*(i//poster_width)))\n",
    "    i += 1\n",
    "\n",
    "    if i > poster_width**2:\n",
    "        break\n",
    "\n",
    "    if i % poster_width == 0:\n",
    "        print('Row {}/{}'.format(i//poster_width, poster_width))"
   ]
  },
  {
   "cell_type": "code",
   "execution_count": null,
   "metadata": {
    "collapsed": false
   },
   "outputs": [],
   "source": [
    "poster_img.save('ig_poster_{}.jpg'.format(THE_TAG), 'JPEG', quality=90, optimize=True, progressive=True)"
   ]
  },
  {
   "cell_type": "markdown",
   "metadata": {},
   "source": [
    "## Clustering the images"
   ]
  },
  {
   "cell_type": "code",
   "execution_count": null,
   "metadata": {
    "collapsed": false
   },
   "outputs": [],
   "source": [
    "# Download the images\n",
    "for img_json in data:\n",
    "    img_url = img_json['images']['thumbnail']['url']\n",
    "    img = Image.open(BytesIO(requests.get(img_url).content))\n",
    "    r = requests.get(img_url, stream=True)\n",
    "    with open('thumbs/{}.jpg'.format(img_json['id']), 'wb') as out_file:\n",
    "        shutil.copyfileobj(r.raw, out_file)"
   ]
  },
  {
   "cell_type": "code",
   "execution_count": null,
   "metadata": {
    "collapsed": false
   },
   "outputs": [],
   "source": [
    "# Calculate hashes\n",
    "hash_size = 64\n",
    "hashes = np.zeros((len(data), int(hash_size * hash_size/8)))\n",
    "\n",
    "for i, img_json in enumerate(data):\n",
    "    img = Image.open('thumbs/{}.jpg'.format(img_json['id']))\n",
    "    h = imagehash.average_hash(img, hash_size=hash_size)\n",
    "    hashes[i, :] = np.packbits(h.hash)"
   ]
  },
  {
   "cell_type": "code",
   "execution_count": null,
   "metadata": {
    "collapsed": false
   },
   "outputs": [],
   "source": [
    "# Cluster\n",
    "n_clusters = 20\n",
    "y_predict = KMeans(n_clusters=n_clusters).fit_predict(hashes)"
   ]
  },
  {
   "cell_type": "code",
   "execution_count": null,
   "metadata": {
    "collapsed": false
   },
   "outputs": [],
   "source": [
    "# Create images\n",
    "for y in range(n_clusters):\n",
    "    cluster = np.where(y_predict == y)[0]\n",
    "    cluster_width = int(len(cluster)**(1/2)) + 1\n",
    "    cluster_img = Image.new('RGB', (IG_WIDTH*cluster_width, IG_WIDTH*cluster_width))\n",
    "\n",
    "    for i, j in enumerate(cluster):\n",
    "        img = Image.open('thumbs/{}.jpg'.format(data[j]['id']))\n",
    "        cluster_img.paste(img, (IG_WIDTH*(i%cluster_width), IG_WIDTH*(i//cluster_width)))\n",
    "\n",
    "    cluster_img.save('ig_cluster_{}_{}.jpg'.format(THE_TAG, y), 'JPEG', quality=90, optimize=True, progressive=True)"
   ]
  },
  {
   "cell_type": "code",
   "execution_count": null,
   "metadata": {
    "collapsed": true
   },
   "outputs": [],
   "source": []
  }
 ],
 "metadata": {
  "kernelspec": {
   "display_name": "Python 3",
   "language": "python",
   "name": "python3"
  },
  "language_info": {
   "codemirror_mode": {
    "name": "ipython",
    "version": 3
   },
   "file_extension": ".py",
   "mimetype": "text/x-python",
   "name": "python",
   "nbconvert_exporter": "python",
   "pygments_lexer": "ipython3",
   "version": "3.5.1"
  }
 },
 "nbformat": 4,
 "nbformat_minor": 0
}
