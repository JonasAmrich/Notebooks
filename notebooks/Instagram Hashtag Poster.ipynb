{
 "cells": [
  {
   "cell_type": "markdown",
   "metadata": {},
   "source": [
    "# Instagram Hashtag Poster\n",
    "\n",
    "This notebook downloads all images from given hashtag and puts them into one large poster.\n",
    "\n",
    "**Important info**: The Instagram API has a sanbox mode, which prevents any app created after Nov 2015 download images from all users prior to app approval. The workaround is to use an old Instagram app id - unfortunately after June 2016 this won't work too. See https://www.instagram.com/developer/sandbox/ for more info."
   ]
  },
  {
   "cell_type": "code",
   "execution_count": 1,
   "metadata": {
    "collapsed": false
   },
   "outputs": [],
   "source": [
    "import math\n",
    "import requests\n",
    "from io import BytesIO\n",
    "from IPython.display import Javascript\n",
    "from PIL import Image\n",
    "\n",
    "CLIENT_ID = '7b75033299b04b478a75b59044238b78'\n",
    "REDIRECT_URI = 'http://localhost:8888/notebooks/notebooks/Instagram%20Hashtag%20Poster.ipynb'  # must be specified in ig client settings\n",
    "IG_ENDPOINT = 'https://api.instagram.com/v1/'\n",
    "IG_WIDTH = 320\n",
    "\n",
    "THE_TAG = 'acupoftravel'"
   ]
  },
  {
   "cell_type": "markdown",
   "metadata": {},
   "source": [
    "The two following cells handles OAuth2 authentication:"
   ]
  },
  {
   "cell_type": "code",
   "execution_count": 2,
   "metadata": {
    "collapsed": false
   },
   "outputs": [
    {
     "data": {
      "application/javascript": [
       "IPython.notebook.kernel.execute(\"NOTEBOOK_URL = '\" + window.location.href + \"'\");"
      ],
      "text/plain": [
       "<IPython.core.display.Javascript object>"
      ]
     },
     "metadata": {},
     "output_type": "display_data"
    }
   ],
   "source": [
    "%%javascript\n",
    "IPython.notebook.kernel.execute(\"NOTEBOOK_URL = '\" + window.location.href + \"'\");"
   ]
  },
  {
   "cell_type": "code",
   "execution_count": 3,
   "metadata": {
    "collapsed": false,
    "scrolled": true
   },
   "outputs": [
    {
     "name": "stdout",
     "output_type": "stream",
     "text": [
      "Click the link and run the cells again.\n",
      "https://api.instagram.com/oauth/authorize/?client_id=7b75033299b04b478a75b59044238b78&redirect_uri=http%3A%2F%2Flocalhost%3A8888%2Fnotebooks%2Fnotebooks%2FInstagram%2520Hashtag%2520Poster.ipynb&response_type=token\n"
     ]
    }
   ],
   "source": [
    "fragment = '#access_token='\n",
    "\n",
    "if fragment in NOTEBOOK_URL:\n",
    "    ACCESS_TOKEN = NOTEBOOK_URL[NOTEBOOK_URL.index(fragment)+len(fragment):]\n",
    "    print('Got the token! Continue below.')\n",
    "else:\n",
    "    Javascript('location.href = \"http://google.com\"')\n",
    "    print('Click the link and run the cells again.')\n",
    "    print('https://api.instagram.com/oauth/authorize/?client_id={}&redirect_uri={}&response_type=token'.format(CLIENT_ID, requests.compat.quote_plus(REDIRECT_URI)))"
   ]
  },
  {
   "cell_type": "code",
   "execution_count": null,
   "metadata": {
    "collapsed": false
   },
   "outputs": [],
   "source": [
    "# Init\n",
    "\n",
    "r = requests.get(IG_ENDPOINT + 'tags/{}/'.format(THE_TAG), {'access_token': ACCESS_TOKEN})\n",
    "n_images = r.json()['data']['media_count']\n",
    "poster_width = math.floor(math.sqrt(n_images))\n",
    "poster_img = Image.new('RGB', (IG_WIDTH*poster_width, IG_WIDTH*poster_width))"
   ]
  },
  {
   "cell_type": "code",
   "execution_count": null,
   "metadata": {
    "collapsed": true
   },
   "outputs": [],
   "source": [
    "# Download all images from the hashtag and place them on the poster. Beware, the poster may eat a lot of memory.\n",
    "\n",
    "i = 0\n",
    "r = requests.get(IG_ENDPOINT + 'tags/{}/media/recent'.format(THE_TAG), {'access_token': ACCESS_TOKEN})\n",
    "while 'next_url' in r.json()['pagination']:\n",
    "    for img_json in r.json()['data']:\n",
    "        img_url = img_json['images']['low_resolution']['url']\n",
    "        img = Image.open(BytesIO(requests.get(img_url).content))\n",
    "        poster_img.paste(img, (IG_WIDTH*(i%poster_width), IG_WIDTH*(i//poster_width)))\n",
    "        i += 1\n",
    "        \n",
    "        if i % poster_width == 0:\n",
    "            print('Row {}/{}'.format(i//poster_width, poster_width))\n",
    "\n",
    "    r = requests.get(r.json()['pagination']['next_url'])"
   ]
  },
  {
   "cell_type": "code",
   "execution_count": null,
   "metadata": {
    "collapsed": false
   },
   "outputs": [],
   "source": [
    "poster_img.save('ig_poster_{}.jpg'.format(THE_TAG), 'JPEG', quality=90, optimize=True, progressive=True)"
   ]
  },
  {
   "cell_type": "code",
   "execution_count": null,
   "metadata": {
    "collapsed": true
   },
   "outputs": [],
   "source": []
  }
 ],
 "metadata": {
  "kernelspec": {
   "display_name": "Python 3",
   "language": "python",
   "name": "python3"
  },
  "language_info": {
   "codemirror_mode": {
    "name": "ipython",
    "version": 3
   },
   "file_extension": ".py",
   "mimetype": "text/x-python",
   "name": "python",
   "nbconvert_exporter": "python",
   "pygments_lexer": "ipython3",
   "version": "3.5.1"
  }
 },
 "nbformat": 4,
 "nbformat_minor": 0
}
