{
 "cells": [
  {
   "cell_type": "code",
   "execution_count": 35,
   "metadata": {
    "collapsed": true
   },
   "outputs": [],
   "source": [
    "import requests\n",
    "import urllib"
   ]
  },
  {
   "cell_type": "code",
   "execution_count": 59,
   "metadata": {
    "collapsed": true
   },
   "outputs": [],
   "source": [
    "POCKET_ENDPOINT = \"https://getpocket.com/v3/\"\n",
    "AUTH_ENDPOINT = POCKET_ENDPOINT + \"oauth/\"\n",
    "GET_ENDPOINT = POCKET_ENDPOINT + \"get/\"\n",
    "CONSUMER_KEY = \"49559-20b53d2752c55436f2e0a399\""
   ]
  },
  {
   "cell_type": "code",
   "execution_count": 8,
   "metadata": {
    "collapsed": false
   },
   "outputs": [
    {
     "data": {
      "application/javascript": [
       "IPython.notebook.kernel.execute(\"NOTEBOOK_URL = '\" + window.location.href + \"'\");"
      ],
      "text/plain": [
       "<IPython.core.display.Javascript object>"
      ]
     },
     "metadata": {},
     "output_type": "display_data"
    }
   ],
   "source": [
    "%%javascript\n",
    "IPython.notebook.kernel.execute(\"NOTEBOOK_URL = '\" + window.location.href + \"'\");"
   ]
  },
  {
   "cell_type": "code",
   "execution_count": 20,
   "metadata": {
    "collapsed": false
   },
   "outputs": [],
   "source": [
    "r = requests.post(AUTH_ENDPOINT + \"request\", data = {'consumer_key': CONSUMER_KEY, 'redirect_uri': NOTEBOOK_URL})"
   ]
  },
  {
   "cell_type": "code",
   "execution_count": 25,
   "metadata": {
    "collapsed": false
   },
   "outputs": [],
   "source": [
    "if r.status_code is not 200:\n",
    "    print(\"Error requesting auth code.\")\n",
    "else:\n",
    "    auth_code = r.text[5:]"
   ]
  },
  {
   "cell_type": "code",
   "execution_count": 32,
   "metadata": {
    "collapsed": false
   },
   "outputs": [
    {
     "name": "stdout",
     "output_type": "stream",
     "text": [
      "https://getpocket.com/auth/authorize?request_token=8f6432d9-0af7-2bb6-7e14-618ead&redirect_uri=http%3A%2F%2Flocalhost%3A8888%2Fnotebooks%2Fnotebooks%2FUntitled.ipynb%3Fkernel_name%3Dpython3\n"
     ]
    }
   ],
   "source": [
    "print(\"https://getpocket.com/auth/authorize?request_token={}&redirect_uri={}\".format(auth_code, urllib.parse.quote_plus(NOTEBOOK_URL)))"
   ]
  },
  {
   "cell_type": "code",
   "execution_count": 37,
   "metadata": {
    "collapsed": false
   },
   "outputs": [],
   "source": [
    "r = requests.post(AUTH_ENDPOINT + \"authorize\", data = {'consumer_key': CONSUMER_KEY, 'code': auth_code})"
   ]
  },
  {
   "cell_type": "code",
   "execution_count": 56,
   "metadata": {
    "collapsed": false
   },
   "outputs": [],
   "source": [
    "result = urllib.parse.parse_qs(r.text)\n",
    "access_token = result['access_token'][0]\n",
    "username = result['username'][0]"
   ]
  },
  {
   "cell_type": "code",
   "execution_count": 62,
   "metadata": {
    "collapsed": false
   },
   "outputs": [],
   "source": [
    "r = requests.post(GET_ENDPOINT, data = {\n",
    "        'consumer_key': CONSUMER_KEY,\n",
    "        'access_token': access_token,\n",
    "        'state': 'archive'\n",
    "    })"
   ]
  },
  {
   "cell_type": "code",
   "execution_count": 76,
   "metadata": {
    "collapsed": true
   },
   "outputs": [],
   "source": [
    "articles = r.json()['list'].values()"
   ]
  },
  {
   "cell_type": "code",
   "execution_count": 65,
   "metadata": {
    "collapsed": false
   },
   "outputs": [
    {
     "data": {
      "text/plain": [
       "185"
      ]
     },
     "execution_count": 65,
     "metadata": {},
     "output_type": "execute_result"
    }
   ],
   "source": [
    "# number of articles read\n",
    "len(r.json()['list'])"
   ]
  },
  {
   "cell_type": "code",
   "execution_count": 71,
   "metadata": {
    "collapsed": true
   },
   "outputs": [],
   "source": [
    "# sum of word counts of all articles\n",
    "word_count_sum = sum([int(a['word_count']) for a in r.json()['list'].values()])"
   ]
  },
  {
   "cell_type": "code",
   "execution_count": 72,
   "metadata": {
    "collapsed": false
   },
   "outputs": [
    {
     "data": {
      "text/plain": [
       "392104"
      ]
     },
     "execution_count": 72,
     "metadata": {},
     "output_type": "execute_result"
    }
   ],
   "source": [
    "word_count_sum"
   ]
  },
  {
   "cell_type": "code",
   "execution_count": 78,
   "metadata": {
    "collapsed": false
   },
   "outputs": [],
   "source": [
    "wait_time_hist = []\n",
    "\n",
    "for a in articles:\n",
    "    wait_time_hist.append(int(a['time_read']) - int(a['time_added']))"
   ]
  },
  {
   "cell_type": "code",
   "execution_count": 91,
   "metadata": {
    "collapsed": false
   },
   "outputs": [],
   "source": [
    "%matplotlib inline\n",
    "\n",
    "import numpy as np\n",
    "import matplotlib.pyplot as plt\n",
    "import seaborn as sns\n",
    "\n",
    "import matplotlib.pylab as pylab\n",
    "pylab.rcParams['figure.figsize'] = 16, 8"
   ]
  },
  {
   "cell_type": "code",
   "execution_count": 164,
   "metadata": {
    "collapsed": false
   },
   "outputs": [
    {
     "data": {
      "image/png": "[encoded data removed]",
      "text/plain": [
       "<matplotlib.figure.Figure at 0x10a91f860>"
      ]
     },
     "metadata": {},
     "output_type": "display_data"
    }
   ],
   "source": [
    "wt_hist = np.array(wait_time_hist)\n",
    "\n",
    "n, bins, patches = plt.hist(wt_hist / 60, 50)\n",
    "\n",
    "step = int(plt.xlim()[1] / 10)\n",
    "x = range(int(plt.xlim()[0]), int(plt.xlim()[1]) + step, step)\n",
    "labels = ['{:.0f} days'.format(t/60/24) for t in x]\n",
    "plt.xticks(x, labels)\n",
    "\n",
    "plt.show()"
   ]
  },
  {
   "cell_type": "code",
   "execution_count": null,
   "metadata": {
    "collapsed": true
   },
   "outputs": [],
   "source": []
  }
 ],
 "metadata": {
  "kernelspec": {
   "display_name": "Python 3",
   "language": "python",
   "name": "python3"
  },
  "language_info": {
   "codemirror_mode": {
    "name": "ipython",
    "version": 3
   },
   "file_extension": ".py",
   "mimetype": "text/x-python",
   "name": "python",
   "nbconvert_exporter": "python",
   "pygments_lexer": "ipython3",
   "version": "3.5.1"
  }
 },
 "nbformat": 4,
 "nbformat_minor": 0
}
